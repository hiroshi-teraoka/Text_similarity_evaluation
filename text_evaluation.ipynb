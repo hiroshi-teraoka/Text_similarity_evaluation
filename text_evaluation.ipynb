{
 "cells": [
  {
   "cell_type": "code",
   "execution_count": 1,
   "metadata": {},
   "outputs": [
    {
     "name": "stderr",
     "output_type": "stream",
     "text": [
      "WARNING:root:Could not import signal.SIGPIPE (this is expected on Windows machines)\n"
     ]
    }
   ],
   "source": [
    "from sumeval.metrics.bleu import BLEUCalculator\n",
    "from sumeval.metrics.rouge import RougeCalculator\n",
    "import pandas as pd"
   ]
  },
  {
   "cell_type": "code",
   "execution_count": 2,
   "metadata": {},
   "outputs": [],
   "source": [
    "input_file_name = 'input_excel/input_files.xlsx'\n",
    "input_df = pd.ExcelFile(input_file_name).parse()\n",
    "# input_microphone_df = pd.ExcelFile(input_file_name).parse(skiprows=2)"
   ]
  },
  {
   "cell_type": "code",
   "execution_count": 3,
   "metadata": {
    "scrolled": true
   },
   "outputs": [
    {
     "data": {
      "text/html": [
       "<div>\n",
       "<style scoped>\n",
       "    .dataframe tbody tr th:only-of-type {\n",
       "        vertical-align: middle;\n",
       "    }\n",
       "\n",
       "    .dataframe tbody tr th {\n",
       "        vertical-align: top;\n",
       "    }\n",
       "\n",
       "    .dataframe thead th {\n",
       "        text-align: right;\n",
       "    }\n",
       "</style>\n",
       "<table border=\"1\" class=\"dataframe\">\n",
       "  <thead>\n",
       "    <tr style=\"text-align: right;\">\n",
       "      <th></th>\n",
       "      <th>id</th>\n",
       "      <th>ref_text</th>\n",
       "      <th>input_text</th>\n",
       "    </tr>\n",
       "  </thead>\n",
       "  <tbody>\n",
       "    <tr>\n",
       "      <th>0</th>\n",
       "      <td>1</td>\n",
       "      <td>スマートフォンは、インターネットを手軽に利用するためのデバイスとして\\n認知され、コスト削減...</td>\n",
       "      <td>スマートフォンの次に来るものスマートフォンはインターネットを手軽に利用するためのデバイスとし...</td>\n",
       "    </tr>\n",
       "    <tr>\n",
       "      <th>1</th>\n",
       "      <td>2</td>\n",
       "      <td>それではこれから今日のお昼何を食べたいかについて話し合いたいと思います。まず中村さん何を食べ...</td>\n",
       "      <td>それではこれから今日のお昼何を食べたいくかについて話し合いたいと思います。まだ中村さん何を食...</td>\n",
       "    </tr>\n",
       "    <tr>\n",
       "      <th>2</th>\n",
       "      <td>3</td>\n",
       "      <td>未来共創イノベーションネットワーク2年目の活動\\n　未来共創イノベーションネットワーク (I...</td>\n",
       "      <td>未来共創イノベーションネットワーク2年目の活動未来共創イノベーションネットワークincfは2...</td>\n",
       "    </tr>\n",
       "  </tbody>\n",
       "</table>\n",
       "</div>"
      ],
      "text/plain": [
       "   id                                           ref_text  \\\n",
       "0   1  スマートフォンは、インターネットを手軽に利用するためのデバイスとして\\n認知され、コスト削減...   \n",
       "1   2  それではこれから今日のお昼何を食べたいかについて話し合いたいと思います。まず中村さん何を食べ...   \n",
       "2   3  未来共創イノベーションネットワーク2年目の活動\\n　未来共創イノベーションネットワーク (I...   \n",
       "\n",
       "                                          input_text  \n",
       "0  スマートフォンの次に来るものスマートフォンはインターネットを手軽に利用するためのデバイスとし...  \n",
       "1  それではこれから今日のお昼何を食べたいくかについて話し合いたいと思います。まだ中村さん何を食...  \n",
       "2  未来共創イノベーションネットワーク2年目の活動未来共創イノベーションネットワークincfは2...  "
      ]
     },
     "execution_count": 3,
     "metadata": {},
     "output_type": "execute_result"
    }
   ],
   "source": [
    "input_df"
   ]
  },
  {
   "cell_type": "code",
   "execution_count": 4,
   "metadata": {},
   "outputs": [
    {
     "data": {
      "text/plain": [
       "{'blue': [69.84996616550504, 62.85968996828376, 85.51142745756943],\n",
       " 'rouge_1': [0.8282828282828283, 0.8, 0.9493087557603687],\n",
       " 'rouge_2': [0.7628865979381443, 0.6905829596412556, 0.9023255813953488],\n",
       " 'rouge_long': [0.8282828282828283, 0.7644444444444445, 0.9493087557603687]}"
      ]
     },
     "execution_count": 4,
     "metadata": {},
     "output_type": "execute_result"
    }
   ],
   "source": [
    "# for i in input_microphone_df['ref_text'].values:\n",
    "bleu_ja = BLEUCalculator(lang=\"ja\")\n",
    "rouge = RougeCalculator(lang=\"ja\")\n",
    "output_dict = {'blue':[], 'rouge_1':[], 'rouge_2':[], 'rouge_long':[]}\n",
    "for index, row in input_df.iterrows():\n",
    "    output_dict['blue'].append(bleu_ja.bleu(row['ref_text'], row['input_text']))  # BLEUでの評価\n",
    "    output_dict['rouge_1'].append(rouge.rouge_n(summary=row['ref_text'], references=row['input_text'], n=1))  # ROUGE(n1)での評価\n",
    "    output_dict['rouge_2'].append(rouge.rouge_n(summary=row['ref_text'], references=row['input_text'], n=2))  # ROUGE(n2)での評価\n",
    "    output_dict['rouge_long'].append(rouge.rouge_l(summary=row['ref_text'], references=row['input_text']))       # ROUGE(rouge_l)での評価\n",
    "    # input_microphone_df['rouge_be'] = rouge.rouge_be(summary=row['ref_text'], references=row['input_text'])      # ROUGE(rouge_be)での評価    \n",
    "output_dict"
   ]
  },
  {
   "cell_type": "code",
   "execution_count": 5,
   "metadata": {},
   "outputs": [
    {
     "data": {
      "text/html": [
       "<div>\n",
       "<style scoped>\n",
       "    .dataframe tbody tr th:only-of-type {\n",
       "        vertical-align: middle;\n",
       "    }\n",
       "\n",
       "    .dataframe tbody tr th {\n",
       "        vertical-align: top;\n",
       "    }\n",
       "\n",
       "    .dataframe thead th {\n",
       "        text-align: right;\n",
       "    }\n",
       "</style>\n",
       "<table border=\"1\" class=\"dataframe\">\n",
       "  <thead>\n",
       "    <tr style=\"text-align: right;\">\n",
       "      <th></th>\n",
       "      <th>id</th>\n",
       "      <th>ref_text</th>\n",
       "      <th>input_text</th>\n",
       "      <th>blue</th>\n",
       "      <th>rouge_1</th>\n",
       "      <th>rouge_2</th>\n",
       "      <th>rouge_long</th>\n",
       "    </tr>\n",
       "  </thead>\n",
       "  <tbody>\n",
       "    <tr>\n",
       "      <th>0</th>\n",
       "      <td>1</td>\n",
       "      <td>スマートフォンは、インターネットを手軽に利用するためのデバイスとして\\n認知され、コスト削減...</td>\n",
       "      <td>スマートフォンの次に来るものスマートフォンはインターネットを手軽に利用するためのデバイスとし...</td>\n",
       "      <td>69.849966</td>\n",
       "      <td>0.828283</td>\n",
       "      <td>0.762887</td>\n",
       "      <td>0.828283</td>\n",
       "    </tr>\n",
       "    <tr>\n",
       "      <th>1</th>\n",
       "      <td>2</td>\n",
       "      <td>それではこれから今日のお昼何を食べたいかについて話し合いたいと思います。まず中村さん何を食べ...</td>\n",
       "      <td>それではこれから今日のお昼何を食べたいくかについて話し合いたいと思います。まだ中村さん何を食...</td>\n",
       "      <td>62.859690</td>\n",
       "      <td>0.800000</td>\n",
       "      <td>0.690583</td>\n",
       "      <td>0.764444</td>\n",
       "    </tr>\n",
       "    <tr>\n",
       "      <th>2</th>\n",
       "      <td>3</td>\n",
       "      <td>未来共創イノベーションネットワーク2年目の活動\\n　未来共創イノベーションネットワーク (I...</td>\n",
       "      <td>未来共創イノベーションネットワーク2年目の活動未来共創イノベーションネットワークincfは2...</td>\n",
       "      <td>85.511427</td>\n",
       "      <td>0.949309</td>\n",
       "      <td>0.902326</td>\n",
       "      <td>0.949309</td>\n",
       "    </tr>\n",
       "  </tbody>\n",
       "</table>\n",
       "</div>"
      ],
      "text/plain": [
       "   id                                           ref_text  \\\n",
       "0   1  スマートフォンは、インターネットを手軽に利用するためのデバイスとして\\n認知され、コスト削減...   \n",
       "1   2  それではこれから今日のお昼何を食べたいかについて話し合いたいと思います。まず中村さん何を食べ...   \n",
       "2   3  未来共創イノベーションネットワーク2年目の活動\\n　未来共創イノベーションネットワーク (I...   \n",
       "\n",
       "                                          input_text       blue   rouge_1  \\\n",
       "0  スマートフォンの次に来るものスマートフォンはインターネットを手軽に利用するためのデバイスとし...  69.849966  0.828283   \n",
       "1  それではこれから今日のお昼何を食べたいくかについて話し合いたいと思います。まだ中村さん何を食...  62.859690  0.800000   \n",
       "2  未来共創イノベーションネットワーク2年目の活動未来共創イノベーションネットワークincfは2...  85.511427  0.949309   \n",
       "\n",
       "    rouge_2  rouge_long  \n",
       "0  0.762887    0.828283  \n",
       "1  0.690583    0.764444  \n",
       "2  0.902326    0.949309  "
      ]
     },
     "execution_count": 5,
     "metadata": {},
     "output_type": "execute_result"
    }
   ],
   "source": [
    "input_df['blue']=output_dict['blue']\n",
    "input_df['rouge_1']=output_dict['rouge_1']\n",
    "input_df['rouge_2']=output_dict['rouge_2']\n",
    "input_df['rouge_long']=output_dict['rouge_long']\n",
    "input_df"
   ]
  },
  {
   "cell_type": "code",
   "execution_count": 6,
   "metadata": {},
   "outputs": [],
   "source": [
    "input_df.to_excel('output_excel/output.xlsx')"
   ]
  },
  {
   "cell_type": "code",
   "execution_count": null,
   "metadata": {},
   "outputs": [],
   "source": []
  }
 ],
 "metadata": {
  "kernelspec": {
   "display_name": "Python 3",
   "language": "python",
   "name": "python3"
  },
  "language_info": {
   "codemirror_mode": {
    "name": "ipython",
    "version": 3
   },
   "file_extension": ".py",
   "mimetype": "text/x-python",
   "name": "python",
   "nbconvert_exporter": "python",
   "pygments_lexer": "ipython3",
   "version": "3.7.0"
  }
 },
 "nbformat": 4,
 "nbformat_minor": 2
}
